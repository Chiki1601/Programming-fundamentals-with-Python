{
 "cells": [
  {
   "cell_type": "code",
   "execution_count": 2,
   "id": "463764da",
   "metadata": {},
   "outputs": [
    {
     "name": "stdout",
     "output_type": "stream",
     "text": [
      "The value of x is:  20\n"
     ]
    }
   ],
   "source": [
    "#class object demo 1\n",
    "\n",
    "class myClass:\n",
    "    x = 20\n",
    "    \n",
    "obj = myClass()\n",
    "print(\"The value of x is: \",obj.x)"
   ]
  },
  {
   "cell_type": "code",
   "execution_count": 6,
   "id": "1a115fcf",
   "metadata": {},
   "outputs": [
    {
     "name": "stdout",
     "output_type": "stream",
     "text": [
      "Hello, from myclass Function\n"
     ]
    }
   ],
   "source": [
    "#class object demo 2\n",
    "\n",
    "class MyClass:\n",
    "    def func(self):\n",
    "        print(\"Hello, from myclass Function\")\n",
    "        \n",
    "obj= MyClass()\n",
    "obj.func()"
   ]
  },
  {
   "cell_type": "code",
   "execution_count": 8,
   "id": "23868ada",
   "metadata": {},
   "outputs": [
    {
     "name": "stdout",
     "output_type": "stream",
     "text": [
      "Hello from init\n",
      "Hi from func\n"
     ]
    }
   ],
   "source": [
    "#init and self  (constructor)\n",
    "\n",
    "class myClass:\n",
    "    def __init__(Self):\n",
    "        print(\"Hello from init\")\n",
    "        \n",
    "    def func(self):\n",
    "        print(\"Hi from func\")\n",
    "        \n",
    "obj = myClass()\n",
    "obj.func()"
   ]
  },
  {
   "cell_type": "code",
   "execution_count": 11,
   "id": "2c71c682",
   "metadata": {},
   "outputs": [
    {
     "name": "stdout",
     "output_type": "stream",
     "text": [
      "You are eligible for voting\n",
      "You are not eligible for Voting\n"
     ]
    }
   ],
   "source": [
    "#init and self  (parameterised constructor)\n",
    "class VotingAge:\n",
    "    def __init__(self,eligibleAge):\n",
    "        self.eligibleAge = eligibleAge\n",
    "        \n",
    "    def isEligible(self,user_age):\n",
    "        if user_age>= self.eligibleAge:\n",
    "            print(\"You are eligible for voting\")\n",
    "        else:\n",
    "            print(\"You are not eligible for Voting\")\n",
    "    \n",
    "v1 = VotingAge(18)    #for india\n",
    "v1.isEligible(23)    # print --> is eligible\n",
    "\n",
    "v2 = VotingAge(16)    #for Argentina\n",
    "v2.isEligible(14)   # print --> is eligible"
   ]
  },
  {
   "cell_type": "code",
   "execution_count": 14,
   "id": "1ebd31b3",
   "metadata": {},
   "outputs": [
    {
     "name": "stdout",
     "output_type": "stream",
     "text": [
      "Student details:\n",
      "Name:  Pooja\n",
      "Course:  MBBS\n",
      "\n",
      " After modyfying details\n",
      "Student details:\n",
      "Name:  Pooja\n",
      "Course:  Engineering\n"
     ]
    }
   ],
   "source": [
    "#modyfying object properties\n",
    "class Student:\n",
    "    def __init__(self,name,course):\n",
    "        self.name = name\n",
    "        self.course = course\n",
    "        \n",
    "    def show(self):\n",
    "        print(\"Student details:\")\n",
    "        print(\"Name: \",self.name)\n",
    "        print(\"Course: \",self.course)\n",
    "        \n",
    "s = Student(\"Pooja\",\"MBBS\")\n",
    "s.show()\n",
    "\n",
    "#changing course\n",
    "s.course = \"Engineering\"\n",
    "print(\"\\n After modyfying details\")\n",
    "s.show()\n"
   ]
  },
  {
   "cell_type": "code",
   "execution_count": 20,
   "id": "f644e031",
   "metadata": {},
   "outputs": [
    {
     "name": "stdout",
     "output_type": "stream",
     "text": [
      "Student details:\n",
      "Name:  Pooja\n",
      "Course:  MBBS\n",
      "Sex: Female\n",
      "\n",
      " After Deleting details\n",
      "Student details:\n",
      "Name:  Pooja\n",
      "Course:  MBBS\n"
     ]
    }
   ],
   "source": [
    "#delete object properties\n",
    "class Student:\n",
    "    def __init__(self,name,course,sex):\n",
    "        self.name = name\n",
    "        self.course = course\n",
    "        self.sex = sex\n",
    " \n",
    "\n",
    "s = Student(\"Pooja\",\"MBBS\",\"Female\")\n",
    "print(\"Student details:\")\n",
    "print(\"Name: \",s.name)\n",
    "print(\"Course: \",s.course)\n",
    "print(\"Sex:\",s.sex)\n",
    "\n",
    "#deleting sex\n",
    "del s.sex\n",
    "\n",
    "\n",
    "print(\"\\n After Deleting details\")       \n",
    "print(\"Student details:\")\n",
    "print(\"Name: \",s.name)\n",
    "print(\"Course: \",s.course)\n",
    "\n",
    "#print(\"Sex:\",s.sex)  -->> Error\n"
   ]
  },
  {
   "cell_type": "code",
   "execution_count": 23,
   "id": "96c4c89b",
   "metadata": {},
   "outputs": [
    {
     "name": "stdout",
     "output_type": "stream",
     "text": [
      "Student details:\n",
      "Name:  Pooja\n",
      "Course:  MBBS\n",
      "Student details:\n",
      "Name:  Aditya\n",
      "Course:  MBBS\n",
      "Student details:\n",
      "Name:  Pooja\n",
      "Course:  MBBS\n"
     ]
    }
   ],
   "source": [
    "##delete object\n",
    "\n",
    "class Student:\n",
    "    def __init__(self,name,course):\n",
    "        self.name = name\n",
    "        self.course = course\n",
    "        \n",
    "    def show(self):\n",
    "        print(\"Student details:\")\n",
    "        print(\"Name: \",self.name)\n",
    "        print(\"Course: \",self.course)\n",
    "        \n",
    "s1 = Student(\"Pooja\",\"MBBS\")\n",
    "s1.show()\n",
    "\n",
    "s2 = Student(\"Aditya\",\"MBBS\")\n",
    "s2.show()\n",
    "\n",
    "\n",
    "#deleting s2\n",
    "\n",
    "del s2\n",
    "\n",
    "\n",
    "s1.show()\n",
    "\n",
    "#s2.show()   -->> error"
   ]
  },
  {
   "cell_type": "code",
   "execution_count": 24,
   "id": "1716bd1d",
   "metadata": {},
   "outputs": [],
   "source": [
    "#pass statement\n",
    "\n",
    "class MyClass:\n",
    "    pass"
   ]
  },
  {
   "cell_type": "code",
   "execution_count": null,
   "id": "f8ab391d",
   "metadata": {},
   "outputs": [],
   "source": []
  }
 ],
 "metadata": {
  "kernelspec": {
   "display_name": "Python 3",
   "language": "python",
   "name": "python3"
  },
  "language_info": {
   "codemirror_mode": {
    "name": "ipython",
    "version": 3
   },
   "file_extension": ".py",
   "mimetype": "text/x-python",
   "name": "python",
   "nbconvert_exporter": "python",
   "pygments_lexer": "ipython3",
   "version": "3.8.8"
  }
 },
 "nbformat": 4,
 "nbformat_minor": 5
}
