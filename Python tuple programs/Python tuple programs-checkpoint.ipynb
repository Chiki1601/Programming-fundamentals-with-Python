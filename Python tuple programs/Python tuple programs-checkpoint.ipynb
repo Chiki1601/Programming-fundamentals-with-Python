{
 "cells": [
  {
   "cell_type": "code",
   "execution_count": 2,
   "id": "d4169c11",
   "metadata": {},
   "outputs": [
    {
     "name": "stdout",
     "output_type": "stream",
     "text": [
      "Tuple content:  ('C', 'C++', 'C#', 'JAVA', 'PYTHON', 'RUBY')\n"
     ]
    }
   ],
   "source": [
    "#create and define a tuple\n",
    "\n",
    "myTuple = (\"C\",\"C++\",\"C#\",\"JAVA\",\"PYTHON\",\"RUBY\")\n",
    "print(\"Tuple content: \",myTuple)"
   ]
  },
  {
   "cell_type": "code",
   "execution_count": 3,
   "id": "a3e7ed43",
   "metadata": {},
   "outputs": [
    {
     "name": "stdout",
     "output_type": "stream",
     "text": [
      "Tuple content:  ('C', 1, 'C++', 2.5, 'C#', 'JAVA', 'CARROT', 'PYTHON', 'RUBY')\n"
     ]
    }
   ],
   "source": [
    "#tuple with difference content\n",
    "\n",
    "myTuple = (\"C\",1,\"C++\",2.5,\"C#\",\"JAVA\",\"CARROT\",\"PYTHON\",\"RUBY\")\n",
    "print(\"Tuple content: \",myTuple)"
   ]
  },
  {
   "cell_type": "code",
   "execution_count": 6,
   "id": "347b63a8",
   "metadata": {},
   "outputs": [
    {
     "name": "stdout",
     "output_type": "stream",
     "text": [
      "Tuple content:  Hello\n"
     ]
    }
   ],
   "source": [
    "#tuple with single item\n",
    "\n",
    "myTuple = (\"Hello\")\n",
    "print(\"Tuple content: \",myTuple)"
   ]
  },
  {
   "cell_type": "code",
   "execution_count": 7,
   "id": "8b76a9f9",
   "metadata": {},
   "outputs": [
    {
     "name": "stdout",
     "output_type": "stream",
     "text": [
      "Tuple content: \n",
      "C\n",
      "C++\n",
      "C#\n",
      "JAVA\n",
      "PYTHON\n",
      "RUBY\n"
     ]
    }
   ],
   "source": [
    "#traverse tuple using loop\n",
    "\n",
    "myTuple = (\"C\",\"C++\",\"C#\",\"JAVA\",\"PYTHON\",\"RUBY\")\n",
    "\n",
    "print(\"Tuple content: \")\n",
    "\n",
    "for items in myTuple:\n",
    "    print(items)"
   ]
  },
  {
   "cell_type": "code",
   "execution_count": 10,
   "id": "5fc3f4f4",
   "metadata": {},
   "outputs": [
    {
     "name": "stdout",
     "output_type": "stream",
     "text": [
      "Tuple content:  ('C', 'C++', 'C#', 'JAVA', 'PYTHON', 'RUBY')\n",
      "Item at index 3 is :  JAVA\n"
     ]
    }
   ],
   "source": [
    "# access an item using index \n",
    "\n",
    "myTuple = (\"C\",\"C++\",\"C#\",\"JAVA\",\"PYTHON\",\"RUBY\")\n",
    "\n",
    "print(\"Tuple content: \",myTuple)\n",
    "print(\"Item at index 3 is : \",myTuple[3])"
   ]
  },
  {
   "cell_type": "code",
   "execution_count": 11,
   "id": "6d486d4a",
   "metadata": {},
   "outputs": [
    {
     "name": "stdout",
     "output_type": "stream",
     "text": [
      "Tuple content:  ('C', 'C++', 'C#', 'JAVA', 'PYTHON', 'RUBY')\n",
      "Item at index range [2:5] is :  ('C#', 'JAVA', 'PYTHON')\n"
     ]
    }
   ],
   "source": [
    "# access an item using index  range\n",
    "\n",
    "myTuple = (\"C\",\"C++\",\"C#\",\"JAVA\",\"PYTHON\",\"RUBY\")\n",
    "\n",
    "print(\"Tuple content: \",myTuple)\n",
    "print(\"Item at index range [2:5] is : \",myTuple[2:5])"
   ]
  },
  {
   "cell_type": "code",
   "execution_count": 12,
   "id": "660d02d4",
   "metadata": {},
   "outputs": [
    {
     "name": "stdout",
     "output_type": "stream",
     "text": [
      "Tuple content:  ('C', 'C++', 'C#', 'JAVA', 'PYTHON', 'RUBY')\n",
      "Length of Tuple >>  6\n"
     ]
    }
   ],
   "source": [
    "#length of tuPle\n",
    "\n",
    "#create and define a tuple\n",
    "\n",
    "myTuple = (\"C\",\"C++\",\"C#\",\"JAVA\",\"PYTHON\",\"RUBY\")\n",
    "\n",
    "print(\"Tuple content: \",myTuple)\n",
    "print(\"Length of Tuple >> \",len(myTuple))"
   ]
  },
  {
   "cell_type": "code",
   "execution_count": 13,
   "id": "1aec8212",
   "metadata": {},
   "outputs": [
    {
     "name": "stdout",
     "output_type": "stream",
     "text": [
      "Enter item to be searched: JAVA\n",
      "Yes JAVA is available in the tuple\n"
     ]
    }
   ],
   "source": [
    "#search item\n",
    "myTuple = (\"C\",\"C++\",\"C#\",\"JAVA\",\"PYTHON\",\"RUBY\")\n",
    "search = input(\"Enter item to be searched: \")\n",
    "\n",
    "if search in myTuple:\n",
    "    print(\"Yes\",search ,\"is available in the tuple\")\n",
    "    \n",
    "else:\n",
    "    print(\"No\",search ,\"is not available in the tuple\")"
   ]
  },
  {
   "cell_type": "code",
   "execution_count": 14,
   "id": "139ffdcf",
   "metadata": {},
   "outputs": [
    {
     "name": "stdout",
     "output_type": "stream",
     "text": [
      "Enter item to be searched: 9\n",
      "First occurance of the  9 is at index:  5\n"
     ]
    }
   ],
   "source": [
    "#search item's 1st occurance in the Tuple\n",
    "\n",
    "myTuple = (1,3,5,4,8,9,1,2,6,9,4,5,3,6,7,8,9,4,5,2,3,1,5,1,5,4,9,8,7,6,3,2,1,8)\n",
    "num = int(input(\"Enter item to be searched: \"))\n",
    "\n",
    "x = myTuple.index(num)\n",
    "\n",
    "print(\"First occurance of the \",num,\"is at index: \",x)"
   ]
  },
  {
   "cell_type": "code",
   "execution_count": 16,
   "id": "dcd79db7",
   "metadata": {},
   "outputs": [
    {
     "name": "stdout",
     "output_type": "stream",
     "text": [
      "Tuple A:  (1, 2, 3)\n",
      "Tuple B:  ('C', 'C++', 'C#', 'JAVA', 'PYTHON', 'RUBY')\n",
      "Tuple C:  (1, 2, 3, 'C', 'C++', 'C#', 'JAVA', 'PYTHON', 'RUBY')\n"
     ]
    }
   ],
   "source": [
    "#join two tuple\n",
    "\n",
    "tupleA = (1,2,3)\n",
    "tupleB = (\"C\",\"C++\",\"C#\",\"JAVA\",\"PYTHON\",\"RUBY\")\n",
    "\n",
    "tupleC = tupleA + tupleB\n",
    "\n",
    "print(\"Tuple A: \",tupleA)\n",
    "print(\"Tuple B: \",tupleB)\n",
    "print(\"Tuple C: \",tupleC)"
   ]
  },
  {
   "cell_type": "code",
   "execution_count": 17,
   "id": "e676e72a",
   "metadata": {},
   "outputs": [
    {
     "name": "stdout",
     "output_type": "stream",
     "text": [
      "Tuple content:  ('C', 'C++', 'C#', 'JAVA', 'PYTHON', 'RUBY')\n",
      "Tuple is deleted\n"
     ]
    }
   ],
   "source": [
    "#delete the tuple using del keytword\n",
    "myTuple = (\"C\",\"C++\",\"C#\",\"JAVA\",\"PYTHON\",\"RUBY\")\n",
    "\n",
    "print(\"Tuple content: \",myTuple)\n",
    "\n",
    "del   myTuple\n",
    "print(\"Tuple is deleted\")"
   ]
  },
  {
   "cell_type": "code",
   "execution_count": 19,
   "id": "cbca037a",
   "metadata": {},
   "outputs": [
    {
     "name": "stdout",
     "output_type": "stream",
     "text": [
      "Tuple content:  (1, 3, 5, 4, 8, 9, 1, 2, 6, 9, 4, 5, 3, 6, 7, 8, 9, 4, 5, 2, 3, 1, 5, 1, 5, 4, 9, 8, 7, 6, 3, 2, 1, 8)\n",
      "Enter item to be searched: 9\n",
      "Count occurance of the  9 is  4\n"
     ]
    }
   ],
   "source": [
    "#count occurance of an item\n",
    "\n",
    "\n",
    "myTuple = (1,3,5,4,8,9,1,2,6,9,4,5,3,6,7,8,9,4,5,2,3,1,5,1,5,4,9,8,7,6,3,2,1,8)\n",
    "print(\"Tuple content: \",myTuple)\n",
    "num = int(input(\"Enter item to be searched: \"))\n",
    "\n",
    "x = myTuple.count(num)\n",
    "\n",
    "print(\"Count occurance of the \",num,\"is \",x)"
   ]
  },
  {
   "cell_type": "code",
   "execution_count": null,
   "id": "6cc42ea7",
   "metadata": {},
   "outputs": [],
   "source": []
  }
 ],
 "metadata": {
  "kernelspec": {
   "display_name": "Python 3",
   "language": "python",
   "name": "python3"
  },
  "language_info": {
   "codemirror_mode": {
    "name": "ipython",
    "version": 3
   },
   "file_extension": ".py",
   "mimetype": "text/x-python",
   "name": "python",
   "nbconvert_exporter": "python",
   "pygments_lexer": "ipython3",
   "version": "3.8.8"
  }
 },
 "nbformat": 4,
 "nbformat_minor": 5
}
