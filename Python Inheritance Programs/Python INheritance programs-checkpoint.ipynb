{
 "cells": [
  {
   "cell_type": "code",
   "execution_count": 1,
   "id": "20b1a70e",
   "metadata": {},
   "outputs": [
    {
     "name": "stdout",
     "output_type": "stream",
     "text": [
      "Enter the value:2\n",
      "Enter the second value: 3\n",
      "From Base Class-->> Addition is:  5\n",
      "From Derived Class-->> Multiplication is:  6\n"
     ]
    }
   ],
   "source": [
    "#single Ingeritance\n",
    "\n",
    "class Base:\n",
    "    def cal_sum(self,a,b):\n",
    "        return a+b\n",
    "    \n",
    "class Derived(Base):\n",
    "    def cal_mul(self,a,b):\n",
    "        return a*b\n",
    "    \n",
    "n1 = int(input(\"Enter the value:\"))\n",
    "n2 = int(input(\"Enter the second value: \"))\n",
    "d = Derived()\n",
    "\n",
    "print(\"From Base Class-->> Addition is: \",d.cal_sum(n1,n2))\n",
    "print(\"From Derived Class-->> Multiplication is: \",d.cal_mul(n1,n2))"
   ]
  },
  {
   "cell_type": "code",
   "execution_count": 2,
   "id": "d8586090",
   "metadata": {},
   "outputs": [
    {
     "name": "stdout",
     "output_type": "stream",
     "text": [
      "Enter the Quantity of the Cement: 115\n",
      "Enter the Quantity of the Iron: 14\n",
      "Total Cost:  97500\n"
     ]
    }
   ],
   "source": [
    "#multiple inheritance\n",
    "\n",
    "class CementDealer:\n",
    "    def getCementCost(self,quantity):\n",
    "        return quantity * 300\n",
    "    \n",
    "    \n",
    "class IronDealer:\n",
    "    def getIronCost(self,quantity):\n",
    "        return quantity * 4500\n",
    "\n",
    "class Builder(CementDealer,IronDealer):\n",
    "    def getTotalCost(self,cQ,iQ):\n",
    "        c_cost = self.getCementCost(cQ)\n",
    "        i_cost = self.getIronCost(iQ)\n",
    "        totalCost = c_cost + i_cost\n",
    "        return totalCost\n",
    "    \n",
    "    \n",
    "Cement = int(input(\"Enter the Quantity of the Cement: \"))\n",
    "    \n",
    "Iron = int(input(\"Enter the Quantity of the Iron: \"))\n",
    "\n",
    "b= Builder()\n",
    "\n",
    "total_cost = b.getTotalCost(Cement,Iron)\n",
    "print(\"Total Cost: \",total_cost)"
   ]
  },
  {
   "cell_type": "code",
   "execution_count": 3,
   "id": "335b18b8",
   "metadata": {},
   "outputs": [
    {
     "name": "stdout",
     "output_type": "stream",
     "text": [
      "Addition is: 30\n",
      "Multiplication is: 200\n"
     ]
    }
   ],
   "source": [
    "#hierarchical inheritacne\n",
    "\n",
    "class Base:\n",
    "    a = 10\n",
    "    b = 20\n",
    "    \n",
    "class DerivedA(Base):\n",
    "    def sum(self):\n",
    "        add = self.a + self.b\n",
    "        print(\"Addition is:\",add)\n",
    "    \n",
    "class DerivedB(Base):\n",
    "    def mul(self):\n",
    "        mul = self.a * self.b\n",
    "        print(\"Multiplication is:\",mul)\n",
    "        \n",
    "dA = DerivedA()\n",
    "dB = DerivedB()\n",
    "\n",
    "dA.sum()\n",
    "dB.mul()"
   ]
  },
  {
   "cell_type": "code",
   "execution_count": 6,
   "id": "68d1970e",
   "metadata": {},
   "outputs": [
    {
     "name": "stdout",
     "output_type": "stream",
     "text": [
      "Enter Student Name: Pooja Patel\n",
      "Enter Student's roll No.: 181010107008\n",
      "Enter Student's Branch: Computer Engineering\n",
      "Enter College Name: Ipcowala Institute of Engineering and Technology\n",
      "Enter reg.(College)No.: 101\n",
      "Enter Univercity Name: Gujarat Technologuical Univerictt\n",
      "Enter reg.(Univercity)No.: 07\n",
      "Student name:  Pooja Patel\n",
      "Student's roll  No:  181010107008\n",
      "Student's branch:  Computer Engineering\n",
      "Univercity name:  Ipcowala Institute of Engineering and Technology\n",
      "Univercity Reg. No:  101\n",
      "Univercity name:  Gujarat Technologuical Univerictt\n",
      "Univercity Reg. No:  07\n"
     ]
    }
   ],
   "source": [
    "#multilevel Inheritance\n",
    "\n",
    "class Univercity:\n",
    "    def getUdetails(self):\n",
    "        self.uname = input(\"Enter Univercity Name: \")\n",
    "        self.uRID = input(\"Enter reg.(Univercity)No.: \")\n",
    "        \n",
    "    def showUdetails(self):\n",
    "        print(\"Univercity name: \",self.uname)\n",
    "        print(\"Univercity Reg. No: \",self.uRID)\n",
    "        \n",
    "class College(Univercity):\n",
    "    def getClgDetails(self):\n",
    "        self.cname = input(\"Enter College Name: \")\n",
    "        self.cRID = input(\"Enter reg.(College)No.: \")\n",
    "        self.getUdetails()\n",
    "    \n",
    "        \n",
    "    def showClgDetails(self):\n",
    "        print(\"Univercity name: \",self.cname)\n",
    "        print(\"Univercity Reg. No: \",self.cRID)\n",
    "        self.showUdetails()\n",
    "            \n",
    "class Student(College):\n",
    "    def getStudDetails(self):\n",
    "        self.sname = input(\"Enter Student Name: \")\n",
    "        self.sRoll = input(\"Enter Student's roll No.: \")\n",
    "        self.sBranch = input(\"Enter Student's Branch: \")\n",
    "        self.getClgDetails()\n",
    "        \n",
    "    def showStudDetails(self):\n",
    "        print(\"Student name: \",self.sname)\n",
    "        print(\"Student's roll  No: \",self.sRoll)\n",
    "        print(\"Student's branch: \",self.sBranch)\n",
    "        self.showClgDetails()\n",
    "        \n",
    "        \n",
    "        \n",
    "s = Student()\n",
    "s.getStudDetails()\n",
    "s.showStudDetails()\n",
    "    \n",
    "            "
   ]
  },
  {
   "cell_type": "code",
   "execution_count": 12,
   "id": "4af6316d",
   "metadata": {},
   "outputs": [
    {
     "name": "stdout",
     "output_type": "stream",
     "text": [
      "Enter Student Name: Pooja Anilkumar Patel\n",
      "Enter Student's roll No.: 181010107008\n",
      "Enter marks for subject 1 :96\n",
      "Enter marks for subject 2 :95\n",
      "Enter marks for subject 3 :98\n",
      "Enter marks for subject 4 :97\n",
      "Enter marks for subject 5 :94\n",
      "Enter Sport name: Vollyball\n",
      "Enter Sport marks: 85\n",
      "STUDENT DETAILS:\n",
      "Student name:  Pooja Anilkumar Patel\n",
      "Student's roll  No:  181010107008\n",
      "Percentage : 94.17\n",
      "Sport name:  Vollyball\n"
     ]
    }
   ],
   "source": [
    "#hybrid inheritance\n",
    "class Student(College):\n",
    "    def getStudDetails(self):\n",
    "        self.sname = input(\"Enter Student Name: \")\n",
    "        self.sRoll = input(\"Enter Student's roll No.: \")\n",
    "        \n",
    "        \n",
    "    def showStudDetails(self):\n",
    "        print(\"STUDENT DETAILS:\")\n",
    "        print(\"Student name: \",self.sname)\n",
    "        print(\"Student's roll  No: \",self.sRoll)\n",
    "       \n",
    "        \n",
    "class Academics(Student):\n",
    "    total = 0\n",
    "    \n",
    "    def getMarks(self):\n",
    "        for x in range(5):\n",
    "            print(\"Enter marks for subject\",(x+1),\":\",end=\"\")\n",
    "            \n",
    "            self.marks= int(input())\n",
    "            self.total = self.total + self.marks\n",
    "            \n",
    "            \n",
    "    def getAtotal(self):\n",
    "        self.showStudDetails()\n",
    "        return self.total\n",
    "    \n",
    "    \n",
    "    \n",
    "class Sports:\n",
    "    spName = \"\"\n",
    "    grade = 0\n",
    "    \n",
    "    def getSport(self):\n",
    "        self.spName = input(\"Enter Sport name: \")\n",
    "        self.grade = input(\"Enter Sport marks: \")\n",
    "        \n",
    "    def getSmarks(self):\n",
    "        return self.grade\n",
    "    \n",
    "    def showSport(self):\n",
    "        print(\"Sport name: \",self.spName)\n",
    "        \n",
    "        \n",
    "        \n",
    "class Result(Academics,Sports):\n",
    "    def getResult(self):\n",
    "        self.getStudDetails()\n",
    "        self.getMarks()\n",
    "        self.getSport()\n",
    "        \n",
    "    def showResult(self):\n",
    "        aTotal = int(self.getAtotal())\n",
    "        sTotal = int(self.getSmarks())\n",
    "        \n",
    "        \n",
    "        per = (aTotal + sTotal) / 6\n",
    "        print(\"Percentage : {:.2f}\".format(per))\n",
    "        self.showSport()\n",
    "\n",
    "        \n",
    "r = Result()\n",
    "r.getResult()\n",
    "r.showResult()"
   ]
  },
  {
   "cell_type": "code",
   "execution_count": 14,
   "id": "872431a2",
   "metadata": {},
   "outputs": [
    {
     "name": "stdout",
     "output_type": "stream",
     "text": [
      "This is  a Parent Function1.\n",
      "This is  a Child Function1.\n",
      "This is a Child Function 2\n"
     ]
    }
   ],
   "source": [
    "#super keywords\n",
    "\n",
    "\n",
    "class Parent:\n",
    "    def func1(self):\n",
    "        print(\"This is  a Parent Function1.\")\n",
    "        \n",
    "class Child(Parent):\n",
    "    def func1(self):\n",
    "        print(\"This is  a Child Function1.\")\n",
    "        \n",
    "    def func2(self):\n",
    "        super().func1()\n",
    "        self.func1()\n",
    "        print(\"This is a Child Function 2\")\n",
    "        \n",
    "ch = Child()\n",
    "ch.func2()"
   ]
  },
  {
   "cell_type": "code",
   "execution_count": null,
   "id": "99e58701",
   "metadata": {},
   "outputs": [],
   "source": []
  }
 ],
 "metadata": {
  "kernelspec": {
   "display_name": "Python 3",
   "language": "python",
   "name": "python3"
  },
  "language_info": {
   "codemirror_mode": {
    "name": "ipython",
    "version": 3
   },
   "file_extension": ".py",
   "mimetype": "text/x-python",
   "name": "python",
   "nbconvert_exporter": "python",
   "pygments_lexer": "ipython3",
   "version": "3.8.8"
  }
 },
 "nbformat": 4,
 "nbformat_minor": 5
}
