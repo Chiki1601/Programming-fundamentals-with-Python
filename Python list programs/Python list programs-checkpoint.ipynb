{
 "cells": [
  {
   "cell_type": "code",
   "execution_count": 2,
   "id": "ad254d2b",
   "metadata": {},
   "outputs": [
    {
     "name": "stdout",
     "output_type": "stream",
     "text": [
      "List content:  ['Banana', 'mango', 'Guava', 'Apple', 'Pineapple']\n"
     ]
    }
   ],
   "source": [
    "#create and define a list\n",
    "\n",
    "myList = [\"Banana\",\"mango\",\"Guava\",\"Apple\",\"Pineapple\"]\n",
    "print(\"List content: \",myList)"
   ]
  },
  {
   "cell_type": "code",
   "execution_count": 3,
   "id": "d7a0a0d5",
   "metadata": {},
   "outputs": [
    {
     "name": "stdout",
     "output_type": "stream",
     "text": [
      "List content:  ['Banana', 'mango', 'Guava', 'Apple', 'Pineapple', 1, 3.5, 25, 'Carrot']\n"
     ]
    }
   ],
   "source": [
    "#list with different items\n",
    "\n",
    "\n",
    "myList = [\"Banana\",\"mango\",\"Guava\",\"Apple\",\"Pineapple\",1,3.5,25,\"Carrot\"]\n",
    "print(\"List content: \",myList)"
   ]
  },
  {
   "cell_type": "code",
   "execution_count": 5,
   "id": "96573618",
   "metadata": {},
   "outputs": [
    {
     "name": "stdout",
     "output_type": "stream",
     "text": [
      "List content: \n",
      "Banana\n",
      "mango\n",
      "Guava\n",
      "Apple\n",
      "Pineapple\n"
     ]
    }
   ],
   "source": [
    "#traverse list using loop\n",
    "\n",
    "myList = [\"Banana\",\"mango\",\"Guava\",\"Apple\",\"Pineapple\"]\n",
    "print(\"List content: \")\n",
    "\n",
    "for item in myList:\n",
    "    print(item)"
   ]
  },
  {
   "cell_type": "code",
   "execution_count": 7,
   "id": "11ce296f",
   "metadata": {},
   "outputs": [
    {
     "name": "stdout",
     "output_type": "stream",
     "text": [
      "List content:  ['Banana', 'mango', 'Guava', 'Apple', 'Pineapple']\n",
      "Item at index 3 Apple\n"
     ]
    }
   ],
   "source": [
    "#access an item using index\n",
    "\n",
    "\n",
    "\n",
    "myList = [\"Banana\",\"mango\",\"Guava\",\"Apple\",\"Pineapple\"]\n",
    "print(\"List content: \",myList)\n",
    "print(\"Item at index 3\",myList[3])"
   ]
  },
  {
   "cell_type": "code",
   "execution_count": 8,
   "id": "8be7f5c9",
   "metadata": {},
   "outputs": [
    {
     "name": "stdout",
     "output_type": "stream",
     "text": [
      "List content:  ['Banana', 'mango', 'Guava', 'Apple', 'Pineapple']\n",
      "Item at index -1 Pineapple\n"
     ]
    }
   ],
   "source": [
    "#access an item using negative index\n",
    "\n",
    "\n",
    "\n",
    "myList = [\"Banana\",\"mango\",\"Guava\",\"Apple\",\"Pineapple\"]\n",
    "print(\"List content: \",myList)\n",
    "print(\"Item at index -1\",myList[-1])"
   ]
  },
  {
   "cell_type": "code",
   "execution_count": 9,
   "id": "b589d038",
   "metadata": {},
   "outputs": [
    {
     "name": "stdout",
     "output_type": "stream",
     "text": [
      "List content:  ['Banana', 'mango', 'Guava', 'Apple', 'Pineapple']\n",
      "Item in range[2:5] is ['Guava', 'Apple', 'Pineapple']\n"
     ]
    }
   ],
   "source": [
    "#access an item using index range\n",
    "\n",
    "\n",
    "\n",
    "myList = [\"Banana\",\"mango\",\"Guava\",\"Apple\",\"Pineapple\"]\n",
    "print(\"List content: \",myList)\n",
    "print(\"Item in range[2:5] is\",myList[2:5])"
   ]
  },
  {
   "cell_type": "code",
   "execution_count": 10,
   "id": "20831457",
   "metadata": {},
   "outputs": [
    {
     "name": "stdout",
     "output_type": "stream",
     "text": [
      "List content:  ['Banana', 'mango', 'Guava', 'Apple', 'Pineapple']\n",
      "Item in range[-5:-1] is ['Banana', 'mango', 'Guava', 'Apple']\n"
     ]
    }
   ],
   "source": [
    "#access an item using negativeindex range\n",
    "\n",
    "\n",
    "\n",
    "myList = [\"Banana\",\"mango\",\"Guava\",\"Apple\",\"Pineapple\"]\n",
    "print(\"List content: \",myList)\n",
    "print(\"Item in range[-5:-1] is\",myList[-5:-1])"
   ]
  },
  {
   "cell_type": "code",
   "execution_count": 12,
   "id": "63cd2662",
   "metadata": {},
   "outputs": [
    {
     "name": "stdout",
     "output_type": "stream",
     "text": [
      "Fruits name (before): ['Banana', 'mango', 'Guava', 'Apple', 'Pineapple']\n",
      "Fruits name (after): ['Banana', 'mango', 'Orange', 'Apple', 'Pineapple']\n"
     ]
    }
   ],
   "source": [
    "#modify list item\n",
    "\n",
    "myList = [\"Banana\",\"mango\",\"Guava\",\"Apple\",\"Pineapple\"]\n",
    "\n",
    "print(\"Fruits name (before):\",myList)\n",
    "\n",
    "myList[2] = \"Orange\"\n",
    "\n",
    "print(\"Fruits name (after):\",myList)"
   ]
  },
  {
   "cell_type": "code",
   "execution_count": 13,
   "id": "3ade5c0a",
   "metadata": {},
   "outputs": [
    {
     "name": "stdout",
     "output_type": "stream",
     "text": [
      "List content:  ['Banana', 'mango', 'Guava', 'Apple', 'Pineapple']\n",
      "Length of the list>>  5\n"
     ]
    }
   ],
   "source": [
    "#lenth of the list\n",
    "\n",
    "\n",
    "myList = [\"Banana\",\"mango\",\"Guava\",\"Apple\",\"Pineapple\"]\n",
    "print(\"List content: \",myList)\n",
    "print(\"Length of the list>> \",len(myList))"
   ]
  },
  {
   "cell_type": "code",
   "execution_count": 14,
   "id": "3aa25c2d",
   "metadata": {},
   "outputs": [
    {
     "name": "stdout",
     "output_type": "stream",
     "text": [
      "List content:  ['Banana', 'mango', 'Guava', 'Apple', 'Pineapple']\n",
      "\n",
      "List content after append():  ['Banana', 'mango', 'Guava', 'Apple', 'Pineapple', 'Orange']\n"
     ]
    }
   ],
   "source": [
    "# append() method\n",
    "\n",
    "\n",
    "myList = [\"Banana\",\"mango\",\"Guava\",\"Apple\",\"Pineapple\"]\n",
    "print(\"List content: \",myList)\n",
    "\n",
    "myList.append(\"Orange\")\n",
    "print(\"\\nList content after append(): \",myList)"
   ]
  },
  {
   "cell_type": "code",
   "execution_count": 16,
   "id": "97770409",
   "metadata": {},
   "outputs": [
    {
     "name": "stdout",
     "output_type": "stream",
     "text": [
      "List content:  ['Banana', 'mango', 'Guava', 'Apple', 'Pineapple']\n",
      "\n",
      "List content after insert():  ['Banana', 'mango', 'Orange', 'Guava', 'Apple', 'Pineapple']\n"
     ]
    }
   ],
   "source": [
    "#insert() method\n",
    "\n",
    "myList = [\"Banana\",\"mango\",\"Guava\",\"Apple\",\"Pineapple\"]\n",
    "print(\"List content: \",myList)\n",
    "\n",
    "myList.insert(2,\"Orange\")\n",
    "print(\"\\nList content after insert(): \",myList)"
   ]
  },
  {
   "cell_type": "code",
   "execution_count": 18,
   "id": "44cc5f68",
   "metadata": {},
   "outputs": [
    {
     "name": "stdout",
     "output_type": "stream",
     "text": [
      "List content:  ['Banana', 'mango', 'Guava', 'Apple', 'Pineapple']\n",
      "\n",
      "List content after remove():  ['Banana', 'mango', 'Guava', 'Pineapple']\n"
     ]
    }
   ],
   "source": [
    "#remove() method\n",
    "\n",
    "myList = [\"Banana\",\"mango\",\"Guava\",\"Apple\",\"Pineapple\"]\n",
    "print(\"List content: \",myList)\n",
    "\n",
    "myList.remove(\"Apple\")\n",
    "print(\"\\nList content after remove(): \",myList)"
   ]
  },
  {
   "cell_type": "code",
   "execution_count": 20,
   "id": "1f7f3fbf",
   "metadata": {},
   "outputs": [
    {
     "name": "stdout",
     "output_type": "stream",
     "text": [
      "List content:  ['Banana', 'mango', 'Guava', 'Apple', 'Pineapple']\n",
      "\n",
      "List content after pop():  ['Banana', 'mango', 'Guava', 'Apple']\n",
      "\n",
      "List content after pop(0):  ['mango', 'Guava', 'Apple']\n"
     ]
    }
   ],
   "source": [
    "#pop()  method\n",
    "\n",
    "myList = [\"Banana\",\"mango\",\"Guava\",\"Apple\",\"Pineapple\"]\n",
    "print(\"List content: \",myList)\n",
    "myList.pop()\n",
    "print(\"\\nList content after pop(): \",myList)\n",
    "\n",
    "myList.pop(0)\n",
    "print(\"\\nList content after pop(0): \",myList)"
   ]
  },
  {
   "cell_type": "code",
   "execution_count": 21,
   "id": "bd3f80a5",
   "metadata": {},
   "outputs": [
    {
     "name": "stdout",
     "output_type": "stream",
     "text": [
      "List content:  ['Banana', 'mango', 'Guava', 'Apple', 'Pineapple']\n",
      "\n",
      "List content after del:  ['Banana', 'Guava', 'Apple', 'Pineapple']\n"
     ]
    }
   ],
   "source": [
    "#remove item using del\n",
    "\n",
    "myList = [\"Banana\",\"mango\",\"Guava\",\"Apple\",\"Pineapple\"]\n",
    "print(\"List content: \",myList)\n",
    "\n",
    "del myList[1]\n",
    "print(\"\\nList content after del: \",myList)"
   ]
  },
  {
   "cell_type": "code",
   "execution_count": 22,
   "id": "06a3b79d",
   "metadata": {},
   "outputs": [
    {
     "name": "stdout",
     "output_type": "stream",
     "text": [
      "List content:  ['Banana', 'mango', 'Guava', 'Apple', 'Pineapple']\n",
      "\n",
      "List content after clear  []\n"
     ]
    }
   ],
   "source": [
    "#clear() method in Python\n",
    "\n",
    "myList = [\"Banana\",\"mango\",\"Guava\",\"Apple\",\"Pineapple\"]\n",
    "print(\"List content: \",myList)\n",
    "myList.clear()\n",
    "print(\"\\nList content after clear \",myList)\n"
   ]
  },
  {
   "cell_type": "code",
   "execution_count": 23,
   "id": "dfca5ca5",
   "metadata": {},
   "outputs": [
    {
     "name": "stdout",
     "output_type": "stream",
     "text": [
      "List content:  ['Banana', 'mango', 'Guava', 'Apple', 'Pineapple']\n",
      "\n",
      "List id deleted\n"
     ]
    }
   ],
   "source": [
    "#delete the list\n",
    "myList = [\"Banana\",\"mango\",\"Guava\",\"Apple\",\"Pineapple\"]\n",
    "print(\"List content: \",myList)\n",
    "\n",
    "del myList\n",
    "print(\"\\nList id deleted\")"
   ]
  },
  {
   "cell_type": "code",
   "execution_count": 24,
   "id": "bb87d924",
   "metadata": {},
   "outputs": [
    {
     "name": "stdout",
     "output_type": "stream",
     "text": [
      "Enter item to be searched: Apple\n",
      "Yes Apple is avialable in the list\n"
     ]
    }
   ],
   "source": [
    "# search item in the list\n",
    "myList = [\"Banana\",\"mango\",\"Guava\",\"Apple\",\"Pineapple\"]\n",
    "search = input(\"Enter item to be searched: \")\n",
    "\n",
    "if search in myList:\n",
    "    print(\"Yes\",search,\"is avialable in the list\")\n",
    "    \n",
    "else:\n",
    "    print(\"No\",search,\"is not avialable in the list\")"
   ]
  },
  {
   "cell_type": "code",
   "execution_count": 25,
   "id": "6df920e2",
   "metadata": {},
   "outputs": [
    {
     "name": "stdout",
     "output_type": "stream",
     "text": [
      "fruits:  ['Banana', 'mango', 'Guava', 'Apple', 'Pineapple']\n"
     ]
    }
   ],
   "source": [
    "#copy list  - copy() method\n",
    "\n",
    "myList = [\"Banana\",\"mango\",\"Guava\",\"Apple\",\"Pineapple\"]\n",
    "fruits = myList.copy()\n",
    "\n",
    "print(\"fruits: \",fruits)"
   ]
  },
  {
   "cell_type": "code",
   "execution_count": 26,
   "id": "4777c594",
   "metadata": {},
   "outputs": [
    {
     "name": "stdout",
     "output_type": "stream",
     "text": [
      "fruits:  ['Banana', 'mango', 'Guava', 'Apple', 'Pineapple']\n"
     ]
    }
   ],
   "source": [
    "#copy list  - list() method\n",
    "myList = [\"Banana\",\"mango\",\"Guava\",\"Apple\",\"Pineapple\"]\n",
    "fruits = list(myList)\n",
    "print(\"fruits: \",fruits)"
   ]
  },
  {
   "cell_type": "code",
   "execution_count": 27,
   "id": "397aced2",
   "metadata": {},
   "outputs": [
    {
     "name": "stdout",
     "output_type": "stream",
     "text": [
      "fruits:  ['Banana', 'mango', 'Guava', 'Apple', 'Pineapple']\n",
      "number:  [1, 2, 3, 4, 5]\n",
      "listC:  [1, 2, 3, 4, 5, 'Banana', 'mango', 'Guava', 'Apple', 'Pineapple']\n"
     ]
    }
   ],
   "source": [
    "#add two lists\n",
    "fruits = [\"Banana\",\"mango\",\"Guava\",\"Apple\",\"Pineapple\"]\n",
    "\n",
    "number = [1,2,3,4,5]\n",
    "\n",
    "listC = number + fruits\n",
    "\n",
    "print(\"fruits: \",fruits)\n",
    "print(\"number: \",number)\n",
    "print(\"listC: \",listC)"
   ]
  },
  {
   "cell_type": "code",
   "execution_count": 28,
   "id": "6e9a8977",
   "metadata": {},
   "outputs": [
    {
     "name": "stdout",
     "output_type": "stream",
     "text": [
      "fruits:  ['Banana', 'mango', 'Guava', 'Apple', 'Pineapple']\n",
      "fruits reversed:  ['Pineapple', 'Apple', 'Guava', 'mango', 'Banana']\n"
     ]
    }
   ],
   "source": [
    "#reverse list\n",
    "\n",
    "fruits = [\"Banana\",\"mango\",\"Guava\",\"Apple\",\"Pineapple\"]\n",
    "print(\"fruits: \",fruits)\n",
    "\n",
    "fruits.reverse()\n",
    "print(\"fruits reversed: \",fruits)"
   ]
  },
  {
   "cell_type": "code",
   "execution_count": 30,
   "id": "bd6000a8",
   "metadata": {},
   "outputs": [
    {
     "name": "stdout",
     "output_type": "stream",
     "text": [
      "List:  [1, 5, 2, 5, 3, 4, 8, 9, 6, 4, 5, 1, 3, 6, 8, 4, 5, 1, 6, 2, 7, 9, 1]\n",
      "Total count of 1 in the list is:  4\n"
     ]
    }
   ],
   "source": [
    "#count occurance of item\n",
    "\n",
    "myList = [1,5,2,5,3,4,8,9,6,4,5,1,3,6,8,4,5,1,6,2,7,9,1]\n",
    "\n",
    "print(\"List: \",myList)\n",
    "n = myList.count(1)\n",
    "\n",
    "print(\"Total count of 1 in the list is: \",n)"
   ]
  },
  {
   "cell_type": "code",
   "execution_count": 31,
   "id": "00b72e20",
   "metadata": {},
   "outputs": [
    {
     "name": "stdout",
     "output_type": "stream",
     "text": [
      "Unsorted List:  [1, 5, 2, 5, 3, 4, 8, 9, 6, 4, 5, 1, 3, 6, 8, 4, 5, 1, 6, 2, 7, 9, 1]\n",
      "Sorted List :  [1, 1, 1, 1, 2, 2, 3, 3, 4, 4, 4, 5, 5, 5, 5, 6, 6, 6, 7, 8, 8, 9, 9]\n"
     ]
    }
   ],
   "source": [
    "#sort list\n",
    "\n",
    "myList = [1,5,2,5,3,4,8,9,6,4,5,1,3,6,8,4,5,1,6,2,7,9,1]\n",
    "print(\"Unsorted List: \",myList)\n",
    "\n",
    "myList.sort()\n",
    "print(\"Sorted List : \",myList)"
   ]
  },
  {
   "cell_type": "code",
   "execution_count": 32,
   "id": "a7d912f5",
   "metadata": {},
   "outputs": [
    {
     "name": "stdout",
     "output_type": "stream",
     "text": [
      "fruits:  ['Banana', 'mango', 'Guava', 'Apple', 'Pineapple']\n",
      "Sorted List  according to criteria:  ['mango', 'Guava', 'Apple', 'Banana', 'Pineapple']\n"
     ]
    }
   ],
   "source": [
    "#sort list according to criteria\n",
    "\n",
    "fruits = [\"Banana\",\"mango\",\"Guava\",\"Apple\",\"Pineapple\"]\n",
    "print(\"fruits: \",fruits)\n",
    "\n",
    "\n",
    "def findLen(e):\n",
    "    return len(e)\n",
    "\n",
    "\n",
    "fruits.sort(key = findLen)\n",
    "print(\"Sorted List  according to criteria: \",fruits)"
   ]
  },
  {
   "cell_type": "code",
   "execution_count": null,
   "id": "53863652",
   "metadata": {},
   "outputs": [],
   "source": []
  }
 ],
 "metadata": {
  "kernelspec": {
   "display_name": "Python 3",
   "language": "python",
   "name": "python3"
  },
  "language_info": {
   "codemirror_mode": {
    "name": "ipython",
    "version": 3
   },
   "file_extension": ".py",
   "mimetype": "text/x-python",
   "name": "python",
   "nbconvert_exporter": "python",
   "pygments_lexer": "ipython3",
   "version": "3.8.8"
  }
 },
 "nbformat": 4,
 "nbformat_minor": 5
}
