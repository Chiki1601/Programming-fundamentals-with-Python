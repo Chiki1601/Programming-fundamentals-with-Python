{
 "cells": [
  {
   "cell_type": "code",
   "execution_count": 49,
   "id": "6b4dd72a",
   "metadata": {},
   "outputs": [
    {
     "name": "stdout",
     "output_type": "stream",
     "text": [
      "Enter 'x' for exit\n",
      "Enter a number in Heexadecimal Format: 346\n",
      "346 in Octal =  0o1506\n"
     ]
    }
   ],
   "source": [
    "#python Conversion programs\n",
    "#convert hexadecimal to octal\n",
    "\n",
    "print(\"Enter 'x' for exit\")\n",
    "\n",
    "hexadec = input(\"Enter a number in Heexadecimal Format: \")\n",
    "\n",
    "if hexadec == 'x':\n",
    "    exit()\n",
    "    \n",
    "else:\n",
    "    dec = int(hexadec,16)\n",
    "    print(hexadec,\"in Octal = \",oct(dec))"
   ]
  },
  {
   "cell_type": "code",
   "execution_count": 50,
   "id": "d4ca1a45",
   "metadata": {},
   "outputs": [
    {
     "name": "stdout",
     "output_type": "stream",
     "text": [
      "Enter 'x' for exit\n",
      "Enter a number in Heexadecimal Format: 346\n",
      "346 in Hexadecimal =  0xe6\n"
     ]
    }
   ],
   "source": [
    "\n",
    "#convert octal to hexadecimal\n",
    "print(\"Enter 'x' for exit\")\n",
    "\n",
    "octal = input(\"Enter a number in Heexadecimal Format: \")\n",
    "\n",
    "if octal == 'x':\n",
    "    exit()\n",
    "    \n",
    "else:\n",
    "    dec = str(int(octal,8))\n",
    "    decm = int(dec)\n",
    "    print(octal,\"in Hexadecimal = \",hex(decm))"
   ]
  },
  {
   "cell_type": "code",
   "execution_count": 51,
   "id": "7cf71217",
   "metadata": {},
   "outputs": [
    {
     "name": "stdout",
     "output_type": "stream",
     "text": [
      "55\n"
     ]
    }
   ],
   "source": [
    "# convert octal to decimal\n",
    "\n",
    "def OctaltoDecimal(n):\n",
    "    num = n\n",
    "    dec_value = 0\n",
    "    base = 1\n",
    "    temp = num\n",
    "    \n",
    "    while temp:\n",
    "        last_digit = temp % 10\n",
    "        temp = int(temp/10)\n",
    "        dec_value += last_digit * base\n",
    "        base = base*8\n",
    "    return dec_value\n",
    "\n",
    "\n",
    "num = 67\n",
    "print(OctaltoDecimal(num))"
   ]
  },
  {
   "cell_type": "code",
   "execution_count": 55,
   "id": "ff71b88c",
   "metadata": {},
   "outputs": [
    {
     "name": "stdout",
     "output_type": "stream",
     "text": [
      "Enter 'x' for exit\n",
      "Enter Temperature in Fahrenheit Format: 96\n",
      "temperature in Celcius 35.55555555555556\n"
     ]
    }
   ],
   "source": [
    "\n",
    "#convert fahrenheit to Celcius\n",
    "\n",
    "print(\"Enter 'x' for exit\")\n",
    "\n",
    "fah = input(\"Enter Temperature in Fahrenheit Format: \")\n",
    "\n",
    "if fah == 'x':\n",
    "    exit()\n",
    "    \n",
    "else:\n",
    "    fahrenheit = float(fah)\n",
    "    celcius = (fahrenheit-32)/1.8;\n",
    "    print(\"temperature in Celcius\",celcius)"
   ]
  },
  {
   "cell_type": "code",
   "execution_count": 54,
   "id": "b4925bbe",
   "metadata": {},
   "outputs": [
    {
     "name": "stdout",
     "output_type": "stream",
     "text": [
      "41"
     ]
    }
   ],
   "source": [
    "\n",
    "#convert decimal to octal\n",
    "\n",
    "def decToOctal(n):\n",
    "    octalNum = [0]*100\n",
    "    i = 0\n",
    "    while n!= 0 :\n",
    "            octalNum[i] = n%8\n",
    "            n = int(n/8)\n",
    "            i+=1\n",
    "            \n",
    "    for j in range(i-1,-1,-1):\n",
    "        print(octalNum[j],end=\"\")\n",
    "            \n",
    "n = 33\n",
    "decToOctal(n)"
   ]
  },
  {
   "cell_type": "code",
   "execution_count": 53,
   "id": "f426ad8d",
   "metadata": {},
   "outputs": [
    {
     "name": "stdout",
     "output_type": "stream",
     "text": [
      "Incles is: 3.94\n",
      "Feet is: 0.33\n"
     ]
    }
   ],
   "source": [
    "\n",
    "#convert Centinemter into feet and inches\n",
    "\n",
    "def Conversion(centi):\n",
    "    inch = 0.3937 * centi\n",
    "    feet = 0.0328 * centi\n",
    "    print(\"Incles is:\",round(inch,2))\n",
    "    print(\"Feet is:\",round(feet,2))\n",
    "    \n",
    "    \n",
    "centi = 10\n",
    "Conversion(centi)"
   ]
  },
  {
   "cell_type": "code",
   "execution_count": 52,
   "id": "f700614b",
   "metadata": {},
   "outputs": [
    {
     "name": "stdout",
     "output_type": "stream",
     "text": [
      "Enter 'x' for exit\n",
      "Enter a number in Heexadecimal Format: 346\n",
      "346 in Binary =  0b1101000110\n"
     ]
    }
   ],
   "source": [
    "\n",
    "#convert hexadecimal to binary\n",
    "print(\"Enter 'x' for exit\")\n",
    "\n",
    "hexadec = input(\"Enter a number in Heexadecimal Format: \")\n",
    "\n",
    "if hexadec == 'x':\n",
    "    exit()\n",
    "    \n",
    "else:\n",
    "    dec = int(hexadec,16)\n",
    "    print(hexadec,\"in Binary = \",bin(dec))"
   ]
  },
  {
   "cell_type": "code",
   "execution_count": 56,
   "id": "4cf12efd",
   "metadata": {},
   "outputs": [
    {
     "name": "stdout",
     "output_type": "stream",
     "text": [
      "9F1"
     ]
    }
   ],
   "source": [
    "#convert decimal to hexadecimal\n",
    "\n",
    "def decToHexa(n):\n",
    "    hexaDeciNum = ['0'] * 100\n",
    "    i = 0\n",
    "    while n!= 0 :\n",
    "        temp = 0\n",
    "        temp = n %16\n",
    "        if(temp<10):\n",
    "            hexaDeciNum[i]= chr(temp +48)\n",
    "            i = i+1\n",
    "        else:\n",
    "            hexaDeciNum[i] = chr(temp + 55)\n",
    "            i = i+1\n",
    "        n = int(n/16)\n",
    "        \n",
    "    j = i-1\n",
    "    while(j>=0):\n",
    "        print((hexaDeciNum[j]),end=\"\")\n",
    "        j = j-1\n",
    "        \n",
    "        \n",
    "n =2545\n",
    "decToHexa(n)"
   ]
  },
  {
   "cell_type": "code",
   "execution_count": 57,
   "id": "e5304d00",
   "metadata": {},
   "outputs": [
    {
     "name": "stdout",
     "output_type": "stream",
     "text": [
      "10001"
     ]
    }
   ],
   "source": [
    "#convert decimal to binary\n",
    "\n",
    "def decToBinary(n):\n",
    "    binaryNum = [0] * n\n",
    "    i =0 \n",
    "    while n>0:\n",
    "        binaryNum[i] = n%2\n",
    "        n = int(n/2)\n",
    "        i+=1\n",
    "        \n",
    "    for j in range(i-1,-1,-1):\n",
    "        print(binaryNum[j],end=\"\")\n",
    "        \n",
    "n = 17\n",
    "decToBinary(n)"
   ]
  },
  {
   "cell_type": "code",
   "execution_count": 58,
   "id": "32c97759",
   "metadata": {},
   "outputs": [
    {
     "name": "stdout",
     "output_type": "stream",
     "text": [
      "Enter the temperature in celcius: 30\n",
      "30.00 Celsius is: 86.00 Fahrenheit\n"
     ]
    }
   ],
   "source": [
    "#convert celsius to fahrenheit\n",
    "\n",
    "celsius = float(input(\"Enter the temperature in celcius: \"))\n",
    "fahrenheit = (celsius * 9/5)+32\n",
    "\n",
    "print(\"%.2f Celsius is: %0.2f Fahrenheit\" %(celsius, fahrenheit))\n"
   ]
  },
  {
   "cell_type": "code",
   "execution_count": 59,
   "id": "88d8ae04",
   "metadata": {},
   "outputs": [
    {
     "name": "stdout",
     "output_type": "stream",
     "text": [
      "169\n"
     ]
    }
   ],
   "source": [
    "#binary to decimal\n",
    "def binaryToDecimal(n):\n",
    "    num = n\n",
    "    dec_value = 0\n",
    "    base = 1\n",
    "    \n",
    "    \n",
    "    temp = num\n",
    "    while(temp):\n",
    "        last_digit = temp%10\n",
    "        temp = int(temp/10)\n",
    "        \n",
    "        dec_value += last_digit * base\n",
    "        base = base *2\n",
    "    return dec_value\n",
    "\n",
    "num = 10101001\n",
    "\n",
    "print(binaryToDecimal(num))"
   ]
  },
  {
   "cell_type": "code",
   "execution_count": 60,
   "id": "394a2272",
   "metadata": {},
   "outputs": [
    {
     "name": "stdout",
     "output_type": "stream",
     "text": [
      "Enter 'x' for exit\n",
      "Enter a number in Octal Format: 322\n",
      "322 in Binary =  0b11010010\n"
     ]
    }
   ],
   "source": [
    "#convert octal to binary\n",
    "print(\"Enter 'x' for exit\")\n",
    "\n",
    "octal = input(\"Enter a number in Octal Format: \")\n",
    "\n",
    "if octal == 'x':\n",
    "    exit()\n",
    "else:\n",
    "    dec = str(int(octal,8))\n",
    "    decm = int(dec)\n",
    "    print(octal,\"in Binary = \",bin(decm))  "
   ]
  },
  {
   "cell_type": "code",
   "execution_count": null,
   "id": "5ae18428",
   "metadata": {},
   "outputs": [],
   "source": []
  }
 ],
 "metadata": {
  "kernelspec": {
   "display_name": "Python 3",
   "language": "python",
   "name": "python3"
  },
  "language_info": {
   "codemirror_mode": {
    "name": "ipython",
    "version": 3
   },
   "file_extension": ".py",
   "mimetype": "text/x-python",
   "name": "python",
   "nbconvert_exporter": "python",
   "pygments_lexer": "ipython3",
   "version": "3.8.8"
  }
 },
 "nbformat": 4,
 "nbformat_minor": 5
}
