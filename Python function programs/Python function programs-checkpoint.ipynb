{
 "cells": [
  {
   "cell_type": "code",
   "execution_count": 5,
   "id": "c030e448",
   "metadata": {},
   "outputs": [
    {
     "name": "stdout",
     "output_type": "stream",
     "text": [
      "Hello from function\n",
      "hi Pooja\n",
      "Hello from function\n"
     ]
    }
   ],
   "source": [
    "# define and calling function\n",
    "\n",
    "def my_fun():\n",
    "    print(\"Hello from function\")\n",
    "my_fun()    \n",
    "print(\"hi Pooja\")\n",
    "\n",
    "my_fun()"
   ]
  },
  {
   "cell_type": "code",
   "execution_count": 6,
   "id": "49394f7a",
   "metadata": {},
   "outputs": [
    {
     "name": "stdout",
     "output_type": "stream",
     "text": [
      "Country:  India >> Capital:  New Delhi\n",
      "Country:  USA >> Capital:  Washington DC\n"
     ]
    }
   ],
   "source": [
    "#function with parameters\n",
    "\n",
    "def capitals(country,capital):\n",
    "    print(\"Country: \",country,\">> Capital: \",capital)\n",
    "\n",
    "capitals(\"India\",\"New Delhi\")\n",
    "capitals(\"USA\",\"Washington DC\")"
   ]
  },
  {
   "cell_type": "code",
   "execution_count": 7,
   "id": "f970bdba",
   "metadata": {},
   "outputs": [
    {
     "name": "stdout",
     "output_type": "stream",
     "text": [
      "I love Singing\n",
      "I love Dancing\n",
      "I love Programming\n",
      "I love Reading\n"
     ]
    }
   ],
   "source": [
    "#function with default parameters\n",
    "\n",
    "def func(hobby = \"Singing\"):\n",
    "    print(\"I love\",hobby)\n",
    "    \n",
    "func()\n",
    "func(\"Dancing\")\n",
    "func(\"Programming\")\n",
    "func(\"Reading\")"
   ]
  },
  {
   "cell_type": "code",
   "execution_count": 8,
   "id": "eb892da8",
   "metadata": {},
   "outputs": [
    {
     "name": "stdout",
     "output_type": "stream",
     "text": [
      "Your surname is Kumar\n",
      "Your surname is Patel\n"
     ]
    }
   ],
   "source": [
    "#key word argument\n",
    "\n",
    "def func(firstName, lastName):\n",
    "    print(\"Your surname is\",lastName)\n",
    "    \n",
    "    \n",
    "func(\"Anil\",\"Kumar\")\n",
    "func(lastName = \"Patel\",firstName= \"Pooja\")"
   ]
  },
  {
   "cell_type": "code",
   "execution_count": 12,
   "id": "308a9cf2",
   "metadata": {},
   "outputs": [
    {
     "name": "stdout",
     "output_type": "stream",
     "text": [
      "First function call\n",
      "Programming languages known: \n",
      "C\n",
      "C++\n",
      "\n",
      "Second function call\n",
      "Programming languages known: \n",
      "Python\n",
      "Java\n",
      "Go\n",
      "\n",
      "Third function call\n",
      "Programming languages known: \n",
      "R\n",
      "Ruby\n",
      "Kotlin\n"
     ]
    }
   ],
   "source": [
    "#function with variable argument\n",
    "\n",
    "def func(*progLang):\n",
    "    print(\"Programming languages known: \")\n",
    "    for x in progLang:\n",
    "        print(x)\n",
    "        \n",
    "print(\"First function call\")\n",
    "func(\"C\",\"C++\")\n",
    "\n",
    "print(\"\\nSecond function call\")\n",
    "func(\"Python\",\"Java\",\"Go\")\n",
    "\n",
    "\n",
    "print(\"\\nThird function call\")\n",
    "func(\"R\",\"Ruby\",\"Kotlin\")\n"
   ]
  },
  {
   "cell_type": "code",
   "execution_count": 13,
   "id": "02189065",
   "metadata": {},
   "outputs": [
    {
     "name": "stdout",
     "output_type": "stream",
     "text": [
      "Sports: \n",
      "Cricket\n",
      "Hockey\n",
      "Football\n",
      "Tennis\n"
     ]
    }
   ],
   "source": [
    "# passing list to a function\n",
    "\n",
    "def func(sport):\n",
    "    print(\"Sports: \")\n",
    "    for x in sport:\n",
    "        print(x)\n",
    "        \n",
    "games = [\"Cricket\",\"Hockey\",\"Football\",\"Tennis\"]\n",
    "func(games)"
   ]
  },
  {
   "cell_type": "code",
   "execution_count": 14,
   "id": "125df5c6",
   "metadata": {},
   "outputs": [],
   "source": [
    "# pass statement\n",
    "\n",
    "def myFunc():\n",
    "    pass"
   ]
  },
  {
   "cell_type": "code",
   "execution_count": 15,
   "id": "2bc15cf4",
   "metadata": {},
   "outputs": [
    {
     "name": "stdout",
     "output_type": "stream",
     "text": [
      "Enter a number: 5\n",
      "Factorial of  5 is 120\n"
     ]
    }
   ],
   "source": [
    "# recursion\n",
    "\n",
    "def fact(n):\n",
    "    if n<=1:\n",
    "        return 1\n",
    "    \n",
    "    else:\n",
    "        n = n*fact(n-1)\n",
    "        return n\n",
    "    \n",
    "n = int(input(\"Enter a number: \"))\n",
    "print(\"Factorial of \",n,\"is\",fact(n))"
   ]
  },
  {
   "cell_type": "code",
   "execution_count": 16,
   "id": "57409c7c",
   "metadata": {},
   "outputs": [
    {
     "name": "stdout",
     "output_type": "stream",
     "text": [
      "Hi from outer function\n",
      "Hi from inner function\n"
     ]
    }
   ],
   "source": [
    "#function inside function\n",
    "\n",
    "def outer():\n",
    "    print(\"Hi from outer function\")\n",
    "    \n",
    "    def inner():\n",
    "        print(\"Hi from inner function\")\n",
    "        \n",
    "    inner()\n",
    "    \n",
    "outer()"
   ]
  },
  {
   "cell_type": "code",
   "execution_count": null,
   "id": "1045479a",
   "metadata": {},
   "outputs": [],
   "source": [
    "#global variable\n",
    "\n",
    "x = 16\n",
    "def func():\n",
    "    global x\n",
    "    x = 19\n",
    "    \n",
    "print(\"Value of X:\",x)\n",
    "\n",
    "func()\n",
    "print(\"Value of X:\",x)\n"
   ]
  }
 ],
 "metadata": {
  "kernelspec": {
   "display_name": "Python 3",
   "language": "python",
   "name": "python3"
  },
  "language_info": {
   "codemirror_mode": {
    "name": "ipython",
    "version": 3
   },
   "file_extension": ".py",
   "mimetype": "text/x-python",
   "name": "python",
   "nbconvert_exporter": "python",
   "pygments_lexer": "ipython3",
   "version": "3.8.8"
  }
 },
 "nbformat": 4,
 "nbformat_minor": 5
}
