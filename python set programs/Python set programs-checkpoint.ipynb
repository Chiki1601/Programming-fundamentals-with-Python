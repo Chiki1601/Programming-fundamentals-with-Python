{
 "cells": [
  {
   "cell_type": "code",
   "execution_count": 1,
   "id": "83f42160",
   "metadata": {},
   "outputs": [
    {
     "name": "stdout",
     "output_type": "stream",
     "text": [
      "set content:  {'JAVA', 'C', 'RUBY', 'C++', 'C#', 'PYTHON'}\n"
     ]
    }
   ],
   "source": [
    "#create and define a set\n",
    "\n",
    "mySet = {\"C\",\"C++\",\"C#\",\"JAVA\",\"PYTHON\",\"RUBY\"}\n",
    "\n",
    "print(\"set content: \",mySet)"
   ]
  },
  {
   "cell_type": "code",
   "execution_count": 2,
   "id": "6ff4c3e0",
   "metadata": {},
   "outputs": [
    {
     "name": "stdout",
     "output_type": "stream",
     "text": [
      "set content:  {'JAVA', 1, 2.5, 'C', 'RUBY', 'CARROT', 'C++', 'C#', 'PYTHON'}\n"
     ]
    }
   ],
   "source": [
    "#set with different items\n",
    "\n",
    "mySet = {\"C\",1,\"C++\",2.5,\"C#\",\"JAVA\",\"CARROT\",\"PYTHON\",\"RUBY\"}\n",
    "\n",
    "print(\"set content: \",mySet)"
   ]
  },
  {
   "cell_type": "code",
   "execution_count": 4,
   "id": "c87fd7ef",
   "metadata": {},
   "outputs": [
    {
     "name": "stdout",
     "output_type": "stream",
     "text": [
      "set content: \n",
      "JAVA\n",
      "C\n",
      "RUBY\n",
      "C++\n",
      "C#\n",
      "PYTHON\n"
     ]
    }
   ],
   "source": [
    "#traverse set using loop\n",
    "\n",
    "mySet = {\"C\",\"C++\",\"C#\",\"JAVA\",\"PYTHON\",\"RUBY\"}\n",
    "\n",
    "print(\"set content: \")\n",
    "for items in mySet:\n",
    "    print(items)"
   ]
  },
  {
   "cell_type": "code",
   "execution_count": 5,
   "id": "76621a25",
   "metadata": {},
   "outputs": [
    {
     "name": "stdout",
     "output_type": "stream",
     "text": [
      "set content:  {'JAVA', 'C', 'RUBY', 'C++', 'C#', 'PYTHON'}\n",
      "Length of set >>  6\n"
     ]
    }
   ],
   "source": [
    "#length of set\n",
    "mySet = {\"C\",\"C++\",\"C#\",\"JAVA\",\"PYTHON\",\"RUBY\"}\n",
    "\n",
    "print(\"set content: \",mySet)\n",
    "print(\"Length of set >> \",len(mySet))"
   ]
  },
  {
   "cell_type": "code",
   "execution_count": 7,
   "id": "eb0970a9",
   "metadata": {},
   "outputs": [
    {
     "name": "stdout",
     "output_type": "stream",
     "text": [
      "Enter item to be searched: java\n",
      "No java is not available in the set\n"
     ]
    }
   ],
   "source": [
    "#search item\n",
    "mySet = {\"C\",\"C++\",\"C#\",\"JAVA\",\"PYTHON\",\"RUBY\"}\n",
    "\n",
    "search = input(\"Enter item to be searched: \")\n",
    "\n",
    "if search in mySet:\n",
    "    print(\"Yes\",search ,\"is available in the set\")\n",
    "    \n",
    "else:\n",
    "    print(\"No\",search ,\"is not available in the set\")"
   ]
  },
  {
   "cell_type": "code",
   "execution_count": 8,
   "id": "04be5c98",
   "metadata": {},
   "outputs": [
    {
     "name": "stdout",
     "output_type": "stream",
     "text": [
      "set content:  {'JAVA', 'C', 'RUBY', 'C++', 'C#', 'PYTHON'}\n",
      "set content(after addition):  {'JAVA', 'C', 'RUBY', 'C++', 'C#', 'PYTHON', 'HTML'}\n"
     ]
    }
   ],
   "source": [
    "#add item    add()\n",
    "mySet = {\"C\",\"C++\",\"C#\",\"JAVA\",\"PYTHON\",\"RUBY\"}\n",
    "print(\"set content: \",mySet)\n",
    "\n",
    "\n",
    "mySet.add(\"HTML\")\n",
    "print(\"set content(after addition): \",mySet)\n"
   ]
  },
  {
   "cell_type": "code",
   "execution_count": 9,
   "id": "2d5efce7",
   "metadata": {},
   "outputs": [
    {
     "name": "stdout",
     "output_type": "stream",
     "text": [
      "set content:  {'JAVA', 'C', 'RUBY', 'C++', 'C#', 'PYTHON'}\n",
      "set content(after update):  {'JAVA', 'C', 'CSS', 'RUBY', 'C++', 'C#', 'JavaScript', 'PYTHON', 'HTML'}\n"
     ]
    }
   ],
   "source": [
    "# update methode in Python\n",
    "\n",
    "mySet = {\"C\",\"C++\",\"C#\",\"JAVA\",\"PYTHON\",\"RUBY\"}\n",
    "print(\"set content: \",mySet)\n",
    "mySet.update([\"HTML\",\"CSS\",\"JavaScript\"])\n",
    "print(\"set content(after update): \",mySet)"
   ]
  },
  {
   "cell_type": "code",
   "execution_count": 10,
   "id": "d65f2d0d",
   "metadata": {},
   "outputs": [
    {
     "name": "stdout",
     "output_type": "stream",
     "text": [
      "set content:  {'JAVA', 'C', 'RUBY', 'C++', 'C#', 'PYTHON'}\n",
      "set content(after remove):  {'C', 'RUBY', 'C++', 'C#', 'PYTHON'}\n"
     ]
    }
   ],
   "source": [
    "#remove() method in Pytohn\n",
    "\n",
    "mySet = {\"C\",\"C++\",\"C#\",\"JAVA\",\"PYTHON\",\"RUBY\"}\n",
    "print(\"set content: \",mySet)\n",
    "\n",
    "mySet.remove(\"JAVA\")\n",
    "print(\"set content(after remove): \",mySet)"
   ]
  },
  {
   "cell_type": "code",
   "execution_count": 12,
   "id": "f8ab284f",
   "metadata": {},
   "outputs": [
    {
     "name": "stdout",
     "output_type": "stream",
     "text": [
      "set content:  {'JAVA', 'C', 'RUBY', 'C++', 'C#', 'PYTHON'}\n",
      "set content(after discard):  {'C', 'RUBY', 'C++', 'C#', 'PYTHON'}\n"
     ]
    }
   ],
   "source": [
    "#discard() method in Pytohn\n",
    "\n",
    "mySet = {\"C\",\"C++\",\"C#\",\"JAVA\",\"PYTHON\",\"RUBY\"}\n",
    "print(\"set content: \",mySet)\n",
    "\n",
    "mySet.discard(\"JAVA\")\n",
    "print(\"set content(after discard): \",mySet)"
   ]
  },
  {
   "cell_type": "code",
   "execution_count": 16,
   "id": "0937547c",
   "metadata": {},
   "outputs": [
    {
     "name": "stdout",
     "output_type": "stream",
     "text": [
      "set content:  {'JAVA', 'C', 'RUBY', 'C++', 'C#', 'PYTHON'}\n",
      "Item removed from the set:  JAVA\n",
      "set content(after pop() {'C', 'RUBY', 'C++', 'C#', 'PYTHON'}\n"
     ]
    }
   ],
   "source": [
    "#pop()   method in Pytohn\n",
    "\n",
    "\n",
    "mySet = {\"C\",\"C++\",\"C#\",\"JAVA\",\"PYTHON\",\"RUBY\"}\n",
    "print(\"set content: \",mySet)\n",
    "\n",
    "x = mySet.pop()\n",
    "print(\"Item removed from the set: \",x)\n",
    "print(\"set content(after pop()\",mySet)"
   ]
  },
  {
   "cell_type": "code",
   "execution_count": 17,
   "id": "a18deaa2",
   "metadata": {},
   "outputs": [
    {
     "name": "stdout",
     "output_type": "stream",
     "text": [
      "set content:  {'JAVA', 'C', 'RUBY', 'C++', 'C#', 'PYTHON'}\n",
      "set content(after clear()):  set()\n"
     ]
    }
   ],
   "source": [
    "#clear method() in python\n",
    "\n",
    "mySet = {\"C\",\"C++\",\"C#\",\"JAVA\",\"PYTHON\",\"RUBY\"}\n",
    "print(\"set content: \",mySet)\n",
    "\n",
    "mySet.clear()\n",
    "print(\"set content(after clear()): \",mySet)"
   ]
  },
  {
   "cell_type": "code",
   "execution_count": 18,
   "id": "2d773722",
   "metadata": {},
   "outputs": [
    {
     "name": "stdout",
     "output_type": "stream",
     "text": [
      "set content:  {'JAVA', 'C', 'RUBY', 'C++', 'C#', 'PYTHON'}\n",
      "set is deleted\n"
     ]
    }
   ],
   "source": [
    "#del set using del keyword\n",
    "\n",
    "\n",
    "mySet = {\"C\",\"C++\",\"C#\",\"JAVA\",\"PYTHON\",\"RUBY\"}\n",
    "print(\"set content: \",mySet)\n",
    "\n",
    "del   mySet\n",
    "print(\"set is deleted\")"
   ]
  },
  {
   "cell_type": "code",
   "execution_count": 19,
   "id": "51058fa2",
   "metadata": {},
   "outputs": [
    {
     "name": "stdout",
     "output_type": "stream",
     "text": [
      "SetA:  {1, 2, 3}\n",
      "SetB:  {'JAVA', 'C', 'RUBY', 'C++', 'C#', 'PYTHON'}\n",
      "SetC:  {'JAVA', 1, 2, 3, 'C', 'RUBY', 'C++', 'C#', 'PYTHON'}\n"
     ]
    }
   ],
   "source": [
    "#join two sets    >> union()\n",
    "\n",
    "setA = {1,2,3}\n",
    "setB = {\"C\",\"C++\",\"C#\",\"JAVA\",\"PYTHON\",\"RUBY\"}\n",
    "\n",
    "setC = setA.union(setB)\n",
    "\n",
    "print(\"SetA: \",setA)\n",
    "\n",
    "print(\"SetB: \",setB)\n",
    "\n",
    "\n",
    "print(\"SetC: \",setC)"
   ]
  },
  {
   "cell_type": "code",
   "execution_count": 22,
   "id": "dbdb1f5d",
   "metadata": {},
   "outputs": [
    {
     "name": "stdout",
     "output_type": "stream",
     "text": [
      "SetA before update:  {1, 2, 3}\n",
      "SetB:  {'JAVA', 'C', 'RUBY', 'C++', 'C#', 'PYTHON'}\n",
      "SetA after update:  {'JAVA', 1, 2, 3, 'C', 'RUBY', 'C++', 'C#', 'PYTHON'}\n"
     ]
    }
   ],
   "source": [
    "#join two sets    >> update()\n",
    "\n",
    "setA = {1,2,3}\n",
    "setB = {\"C\",\"C++\",\"C#\",\"JAVA\",\"PYTHON\",\"RUBY\"}\n",
    "\n",
    "\n",
    "print(\"SetA before update: \",setA)\n",
    "print(\"SetB: \",setB)\n",
    "setA.update(setB)\n",
    "\n",
    "print(\"SetA after update: \",setA)"
   ]
  },
  {
   "cell_type": "code",
   "execution_count": 23,
   "id": "c24dcd39",
   "metadata": {},
   "outputs": [
    {
     "name": "stdout",
     "output_type": "stream",
     "text": [
      "SetB:  {'JAVA', 'RUBY', 'C++', 'C#', 'PYTHON', 'C'}\n"
     ]
    }
   ],
   "source": [
    "# copy set  >> copy()\n",
    "\n",
    "setA = {\"C\",\"C++\",\"C#\",\"JAVA\",\"PYTHON\",\"RUBY\"}\n",
    "\n",
    "setB = setA.copy()\n",
    "print(\"SetB: \",setB)"
   ]
  },
  {
   "cell_type": "code",
   "execution_count": 25,
   "id": "712d28c8",
   "metadata": {},
   "outputs": [
    {
     "name": "stdout",
     "output_type": "stream",
     "text": [
      "Laptop Manufactures:  {'Apple', 'DELL', 'ACER'}\n",
      "Mobile Manufactures:  {'Apple', 'OnePlus', 'Samsumg', 'RedMI'}\n",
      "Manufactures both:  {'Apple'}\n"
     ]
    }
   ],
   "source": [
    "#set intersection >> intersection()\n",
    "\n",
    "laptops = {\"Apple\",\"DELL\",\"ACER\"}\n",
    "\n",
    "mobiles = {\"OnePlus\",\"RedMI\",\"Apple\",\"Samsumg\"}\n",
    "\n",
    "both = laptops.intersection(mobiles)\n",
    "\n",
    "\n",
    "print(\"Laptop Manufactures: \",laptops)\n",
    "\n",
    "print(\"Mobile Manufactures: \",mobiles)\n",
    "\n",
    "print(\"Manufactures both: \",both)"
   ]
  },
  {
   "cell_type": "code",
   "execution_count": 28,
   "id": "0088d49f",
   "metadata": {},
   "outputs": [
    {
     "name": "stdout",
     "output_type": "stream",
     "text": [
      "Laptop Manufactures:  {'Apple', 'DELL', 'ACER'}\n",
      "Mobile Manufactures:  {'Apple', 'OnePlus', 'Samsumg', 'RedMI'}\n",
      " Only Mobile Manufactures :  {'OnePlus', 'Samsumg', 'RedMI'}\n"
     ]
    }
   ],
   "source": [
    "#difference  between sets >> defference()\n",
    "\n",
    "laptops = {\"Apple\",\"DELL\",\"ACER\"}\n",
    "\n",
    "mobiles = {\"OnePlus\",\"RedMI\",\"Apple\",\"Samsumg\"}\n",
    "\n",
    "onlyMobile = mobiles.difference(laptops)\n",
    "\n",
    "print(\"Laptop Manufactures: \",laptops)\n",
    "\n",
    "print(\"Mobile Manufactures: \",mobiles)\n",
    "\n",
    "\n",
    "print(\" Only Mobile Manufactures : \",onlyMobile )"
   ]
  },
  {
   "cell_type": "code",
   "execution_count": null,
   "id": "5914fb1e",
   "metadata": {},
   "outputs": [],
   "source": []
  }
 ],
 "metadata": {
  "kernelspec": {
   "display_name": "Python 3",
   "language": "python",
   "name": "python3"
  },
  "language_info": {
   "codemirror_mode": {
    "name": "ipython",
    "version": 3
   },
   "file_extension": ".py",
   "mimetype": "text/x-python",
   "name": "python",
   "nbconvert_exporter": "python",
   "pygments_lexer": "ipython3",
   "version": "3.8.8"
  }
 },
 "nbformat": 4,
 "nbformat_minor": 5
}
