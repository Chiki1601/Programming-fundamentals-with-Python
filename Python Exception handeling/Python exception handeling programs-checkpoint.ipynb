{
 "cells": [
  {
   "cell_type": "code",
   "execution_count": 8,
   "id": "02f84921",
   "metadata": {},
   "outputs": [
    {
     "name": "stdout",
     "output_type": "stream",
     "text": [
      "3\n"
     ]
    }
   ],
   "source": [
    "#try except\n",
    "\n",
    "#num = 3\n",
    "try:\n",
    "    print(num)\n",
    "    \n",
    "except:\n",
    "    print(\"AN Exception is occured!\")"
   ]
  },
  {
   "cell_type": "code",
   "execution_count": 11,
   "id": "3c62a17d",
   "metadata": {},
   "outputs": [
    {
     "name": "stdout",
     "output_type": "stream",
     "text": [
      "NameError:1\n",
      "TypeError:2\n",
      "ZeroDivisionError:3\n",
      "Enter your choice:2\n",
      "A TypeError Exception is occured!\n"
     ]
    }
   ],
   "source": [
    "#handeling multuple exceptions\n",
    "print(\"NameError:1\")\n",
    "print(\"TypeError:2\")\n",
    "print(\"ZeroDivisionError:3\")\n",
    "ch = int(input(\"Enter your choice:\"))\n",
    "\n",
    "\n",
    "try:\n",
    "    if ch ==1:\n",
    "        print(num)\n",
    "    elif ch ==2:\n",
    "        x = 'ABC' + 10\n",
    "    else:\n",
    "        x = 10/0\n",
    "        \n",
    "except NameError:\n",
    "    print(\"A NameError Exception is occured!\")\n",
    "    \n",
    "except TypeError:\n",
    "    print(\"A TypeError Exception is occured!\")\n",
    "    \n",
    "except ZeroDivisionError:\n",
    "    print(\"A ZeroDivision Exception is occured!\")"
   ]
  },
  {
   "cell_type": "code",
   "execution_count": 12,
   "id": "b11a312b",
   "metadata": {},
   "outputs": [
    {
     "name": "stdout",
     "output_type": "stream",
     "text": [
      "Press 1 to generate Exception.\n",
      "Press 2 to for safe execution.\n",
      "Enter your choice:2\n",
      "Safe Execution,No Exception !\n"
     ]
    }
   ],
   "source": [
    "# else Clause\n",
    "\n",
    "print(\"Press 1 to generate Exception.\")\n",
    "print(\"Press 2 to for safe execution.\")\n",
    "\n",
    "\n",
    "ch = int(input(\"Enter your choice:\"))\n",
    "try:\n",
    "    if ch ==1:\n",
    "        x = 10/0\n",
    "except:\n",
    "    print(\"AN Exception is occured!\")\n",
    "    \n",
    "else:\n",
    "    print(\"Safe Execution,No Exception !\")\n",
    "    "
   ]
  },
  {
   "cell_type": "code",
   "execution_count": 13,
   "id": "d8662831",
   "metadata": {},
   "outputs": [
    {
     "name": "stdout",
     "output_type": "stream",
     "text": [
      "Press 1 to generate Exception.\n",
      "Press 2 to for safe execution.\n",
      "Enter your choice:1\n",
      "Try executes>>>\n",
      "AN Exception is occured!\n",
      "Finally Executes !\n"
     ]
    }
   ],
   "source": [
    "#fianlly\n",
    "\n",
    "\n",
    "print(\"Press 1 to generate Exception.\")\n",
    "print(\"Press 2 to for safe execution.\")\n",
    "\n",
    "\n",
    "ch = int(input(\"Enter your choice:\"))\n",
    "try:\n",
    "    if ch ==1:\n",
    "        print(\"Try executes>>>\")\n",
    "        x = 10/0\n",
    "except:\n",
    "    print(\"AN Exception is occured!\")\n",
    "    \n",
    "finally:\n",
    "    print(\"Finally Executes !\")\n",
    "    \n"
   ]
  },
  {
   "cell_type": "code",
   "execution_count": 15,
   "id": "0bb023f5",
   "metadata": {},
   "outputs": [
    {
     "ename": "Exception",
     "evalue": "Exception, number is smaller than 0",
     "output_type": "error",
     "traceback": [
      "\u001b[1;31m---------------------------------------------------------------------------\u001b[0m",
      "\u001b[1;31mException\u001b[0m                                 Traceback (most recent call last)",
      "\u001b[1;32m<ipython-input-15-bdc99f04a39f>\u001b[0m in \u001b[0;36m<module>\u001b[1;34m\u001b[0m\n\u001b[0;32m      3\u001b[0m \u001b[0mnum\u001b[0m \u001b[1;33m=\u001b[0m \u001b[1;33m-\u001b[0m\u001b[1;36m1\u001b[0m\u001b[1;33m\u001b[0m\u001b[1;33m\u001b[0m\u001b[0m\n\u001b[0;32m      4\u001b[0m \u001b[1;32mif\u001b[0m \u001b[0mnum\u001b[0m\u001b[1;33m<\u001b[0m\u001b[1;36m0\u001b[0m\u001b[1;33m:\u001b[0m\u001b[1;33m\u001b[0m\u001b[1;33m\u001b[0m\u001b[0m\n\u001b[1;32m----> 5\u001b[1;33m     \u001b[1;32mraise\u001b[0m \u001b[0mException\u001b[0m\u001b[1;33m(\u001b[0m\u001b[1;34m\"Exception, number is smaller than 0\"\u001b[0m\u001b[1;33m)\u001b[0m\u001b[1;33m\u001b[0m\u001b[1;33m\u001b[0m\u001b[0m\n\u001b[0m",
      "\u001b[1;31mException\u001b[0m: Exception, number is smaller than 0"
     ]
    }
   ],
   "source": [
    "# raise an Exception\n",
    "\n",
    "num = -1\n",
    "if num<0:\n",
    "    raise Exception(\"Exception, number is smaller than 0\")"
   ]
  },
  {
   "cell_type": "code",
   "execution_count": null,
   "id": "046999d7",
   "metadata": {},
   "outputs": [],
   "source": []
  }
 ],
 "metadata": {
  "kernelspec": {
   "display_name": "Python 3",
   "language": "python",
   "name": "python3"
  },
  "language_info": {
   "codemirror_mode": {
    "name": "ipython",
    "version": 3
   },
   "file_extension": ".py",
   "mimetype": "text/x-python",
   "name": "python",
   "nbconvert_exporter": "python",
   "pygments_lexer": "ipython3",
   "version": "3.8.8"
  }
 },
 "nbformat": 4,
 "nbformat_minor": 5
}
