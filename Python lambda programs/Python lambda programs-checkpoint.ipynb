{
 "cells": [
  {
   "cell_type": "code",
   "execution_count": 11,
   "id": "0202d1eb",
   "metadata": {},
   "outputs": [
    {
     "name": "stdout",
     "output_type": "stream",
     "text": [
      "sum is 30\n"
     ]
    }
   ],
   "source": [
    "# lambda function demo 1\n",
    "\n",
    "#add two numbers\n",
    "\n",
    "x = lambda a,b: a+b\n",
    "print(\"sum is\", x(10,20))"
   ]
  },
  {
   "cell_type": "code",
   "execution_count": 12,
   "id": "16a41c79",
   "metadata": {},
   "outputs": [
    {
     "name": "stdout",
     "output_type": "stream",
     "text": [
      "Second Number is greater\n"
     ]
    }
   ],
   "source": [
    "#find large number in two numbers\n",
    "\n",
    "x = (lambda n,m: (n>m and'First' or 'Second'))\n",
    "print(x(10,20),\"Number is greater\")"
   ]
  },
  {
   "cell_type": "code",
   "execution_count": 13,
   "id": "d8371ebc",
   "metadata": {},
   "outputs": [
    {
     "name": "stdout",
     "output_type": "stream",
     "text": [
      "Number is Even\n"
     ]
    }
   ],
   "source": [
    "#check even or odd\n",
    "\n",
    "x = lambda x: (x%2 and 'Odd' or 'Even')\n",
    "\n",
    "print(\"Number is\",x(6))"
   ]
  },
  {
   "cell_type": "code",
   "execution_count": 14,
   "id": "1eec98a6",
   "metadata": {},
   "outputs": [
    {
     "name": "stdout",
     "output_type": "stream",
     "text": [
      "Result:  8\n"
     ]
    }
   ],
   "source": [
    "#lambda inside function\n",
    "\n",
    "def double(n):\n",
    "    return lambda a: a*n\n",
    "\n",
    "cal = double(2)\n",
    "print(\"Result: \",cal(4))"
   ]
  },
  {
   "cell_type": "code",
   "execution_count": 16,
   "id": "a15d4bfc",
   "metadata": {},
   "outputs": [
    {
     "name": "stdout",
     "output_type": "stream",
     "text": [
      "Number list [1, 3, 6, 7, 3, 4, 5, 8, 9, 0, 2]\n",
      "Numbers smaller than 5 in the list are: \n",
      "[1, 3, 3, 4, 0, 2]\n"
     ]
    }
   ],
   "source": [
    "#lambda with filter\n",
    "\n",
    "numbers = [1,3,6,7,3,4,5,8,9,0,2]\n",
    "result = filter(lambda x:x<5,numbers)\n",
    "\n",
    "print(\"Number list\", numbers)\n",
    "print(\"Numbers smaller than 5 in the list are: \")\n",
    "print(list(result))"
   ]
  },
  {
   "cell_type": "code",
   "execution_count": 17,
   "id": "dd916236",
   "metadata": {},
   "outputs": [
    {
     "name": "stdout",
     "output_type": "stream",
     "text": [
      "Square of numbers in the list: \n",
      "[1, 4, 9, 16]\n"
     ]
    }
   ],
   "source": [
    "#lambda with map\n",
    "\n",
    "def square(n):\n",
    "    return n*n\n",
    "\n",
    "result = map(square,[1,2,3,4])\n",
    "\n",
    "print(\"Square of numbers in the list: \")\n",
    "print(list(result))"
   ]
  },
  {
   "cell_type": "code",
   "execution_count": 18,
   "id": "c563adcb",
   "metadata": {},
   "outputs": [
    {
     "name": "stdout",
     "output_type": "stream",
     "text": [
      "Product of all numbers in the list:  120\n"
     ]
    }
   ],
   "source": [
    "#lambda with reduce\n",
    "\n",
    "from functools import reduce\n",
    "numbers = [1,2,3,4,5]\n",
    "prod = reduce(lambda x,y:x*y,numbers)\n",
    "\n",
    "print(\"Product of all numbers in the list: \", prod)"
   ]
  },
  {
   "cell_type": "code",
   "execution_count": null,
   "id": "6d6aa8c3",
   "metadata": {},
   "outputs": [],
   "source": []
  }
 ],
 "metadata": {
  "kernelspec": {
   "display_name": "Python 3",
   "language": "python",
   "name": "python3"
  },
  "language_info": {
   "codemirror_mode": {
    "name": "ipython",
    "version": 3
   },
   "file_extension": ".py",
   "mimetype": "text/x-python",
   "name": "python",
   "nbconvert_exporter": "python",
   "pygments_lexer": "ipython3",
   "version": "3.8.8"
  }
 },
 "nbformat": 4,
 "nbformat_minor": 5
}
